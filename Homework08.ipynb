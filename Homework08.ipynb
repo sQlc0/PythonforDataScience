{
 "cells": [
  {
   "cell_type": "markdown",
   "id": "4c6abf27",
   "metadata": {},
   "source": [
    "# 1. Linear Regression "
   ]
  },
  {
   "cell_type": "code",
   "execution_count": null,
   "id": "d928ae58",
   "metadata": {},
   "outputs": [],
   "source": [
    "from sklearn.linear_model import LinearRegression\n",
    "import numpy as np\n",
    "\n",
    "## Data (Apple stock prices)\n",
    "apple = np.array([155, 156, 157])\n",
    "n = len(apple)\n",
    "\n",
    "## One-liner\n",
    "model = LinearRegression().fit(np.arange(n).reshape((n,1)), apple)\n",
    "\n",
    "\n",
    "## Result & puzzle\n",
    "print(model.predict([[3],[4]]))"
   ]
  },
  {
   "cell_type": "markdown",
   "id": "9dfa3758",
   "metadata": {},
   "source": [
    "# 2. Logistic Regression"
   ]
  },
  {
   "cell_type": "code",
   "execution_count": 16,
   "id": "851e864b",
   "metadata": {},
   "outputs": [
    {
     "name": "stdout",
     "output_type": "stream",
     "text": [
      "['No' 'No' 'No' 'Yes' 'Yes']\n"
     ]
    }
   ],
   "source": [
    "from sklearn.linear_model import LogisticRegression\n",
    "import numpy as np\n",
    "\n",
    "## Data (#cigarettes, cancer)\n",
    "X = np.array([[0, \"No\"],\n",
    "             [10, \"No\"],\n",
    "             [60, \"Yes\"],\n",
    "             [90, \"Yes\"]])\n",
    "\n",
    "## One-liner\n",
    "model = LogisticRegression().fit(X[:,0].reshape(4,1), X[:,1])\n",
    "\n",
    "## Result & puzzle\n",
    "print(model.predict([[2],[12],[13],[40],[90]]))"
   ]
  },
  {
   "cell_type": "markdown",
   "id": "3b8b006f",
   "metadata": {},
   "source": [
    "# 3. K-Means Clustering"
   ]
  },
  {
   "cell_type": "code",
   "execution_count": 4,
   "id": "03293f02",
   "metadata": {},
   "outputs": [
    {
     "name": "stdout",
     "output_type": "stream",
     "text": [
      "[[  20. 2000.]\n",
      " [  50. 7000.]]\n"
     ]
    }
   ],
   "source": [
    "from sklearn.cluster import KMeans\n",
    "import numpy as np\n",
    "\n",
    "## Data (Work (h) / Salary ($))\n",
    "X = np.array([[35, 7000], [45, 6900], [70, 7100],\n",
    " [20, 2000], [25, 2200], [15, 1800]])\n",
    "\n",
    "## One-liner\n",
    "kmeans = KMeans(n_clusters=2).fit(X)\n",
    "\n",
    "## Result & puzzle\n",
    "cc = kmeans.cluster_centers_\n",
    "print(cc)"
   ]
  },
  {
   "cell_type": "markdown",
   "id": "d519f4a3",
   "metadata": {},
   "source": [
    "# 4. K-Nearest Neighbor"
   ]
  },
  {
   "cell_type": "code",
   "execution_count": 5,
   "id": "26f08deb",
   "metadata": {},
   "outputs": [
    {
     "name": "stdout",
     "output_type": "stream",
     "text": [
      "[32500.]\n"
     ]
    }
   ],
   "source": [
    "from sklearn.neighbors import KNeighborsRegressor\n",
    "import numpy as np\n",
    "\n",
    "## Data (House Size (square meters) / House Price ($))\n",
    "X = np.array([[35, 30000], [45, 45000], [40, 50000],\n",
    " [35, 35000], [25, 32500], [40, 40000]])\n",
    "\n",
    "## One-liner\n",
    "KNN = KNeighborsRegressor(n_neighbors=3).fit(X[:,0].reshape(-1,1), X[:,1])\n",
    "\n",
    "## Result & puzzle\n",
    "res = KNN.predict([[30]])\n",
    "print(res)"
   ]
  },
  {
   "cell_type": "markdown",
   "id": "3e4291cb",
   "metadata": {},
   "source": [
    "# 5. NN"
   ]
  },
  {
   "cell_type": "code",
   "execution_count": 6,
   "id": "b673ce0a",
   "metadata": {},
   "outputs": [
    {
     "name": "stdout",
     "output_type": "stream",
     "text": [
      "[1464.25018813]\n"
     ]
    }
   ],
   "source": [
    "from sklearn.neural_network import MLPRegressor\n",
    "import numpy as np\n",
    "\n",
    "## Questionaire data (WEEK, YEARS, BOOKS, PROJECTS, EARN, RATING)\n",
    "X = np.array(\n",
    " [[20, 11, 20, 30, 4000, 3000],\n",
    " [12, 4, 0, 0, 1000, 1500],\n",
    " [2, 0, 1, 10, 0, 1400],\n",
    " [35, 5, 10, 70, 6000, 3800],\n",
    " [30, 1, 4, 65, 0, 3900],\n",
    " [35, 1, 0, 0, 0, 100],\n",
    " [15, 1, 2, 25, 0, 3700],\n",
    " [40, 3, -1, 60, 1000, 2000],\n",
    " [40, 1, 2, 95, 0, 1000],\n",
    " [10, 0, 0, 0, 0, 1400],\n",
    " [30, 1, 0, 50, 0, 1700],\n",
    " [1, 0, 0, 45, 0, 1762],\n",
    " [10, 32, 10, 5, 0, 2400],\n",
    " [5, 35, 4, 0, 13000, 3900],\n",
    " [8, 9, 40, 30, 1000, 2625],\n",
    " [1, 0, 1, 0, 0, 1900],\n",
    " [1, 30, 10, 0, 1000, 1900],\n",
    " [7, 16, 5, 0, 0, 3000]])\n",
    "\n",
    "## One-liner\n",
    "neural_net = MLPRegressor(max_iter=10000).fit(X[:,:-1], X[:,-1])\n",
    "\n",
    "## Result\n",
    "res = neural_net.predict([[0, 0, 0, 0, 0]])\n",
    "print(res)"
   ]
  },
  {
   "cell_type": "markdown",
   "id": "2ae8d4c9",
   "metadata": {},
   "source": [
    "# 6. Decision-Tree"
   ]
  },
  {
   "cell_type": "code",
   "execution_count": 7,
   "id": "9ff26368",
   "metadata": {},
   "outputs": [
    {
     "name": "stdout",
     "output_type": "stream",
     "text": [
      "['computer science']\n",
      "['linguistics']\n"
     ]
    }
   ],
   "source": [
    "from sklearn import tree\n",
    "import numpy as np\n",
    "\n",
    "## Data: student scores in (math, language, creativity) --> study field\n",
    "X = np.array([[9, 5, 6, \"computer science\"],\n",
    " [1, 8, 1, \"linguistics\"],\n",
    " [5, 7, 9, \"art\"]])\n",
    "\n",
    "## One-liner\n",
    "Tree = tree.DecisionTreeClassifier().fit(X[:,:-1], X[:,-1])\n",
    "\n",
    "## Result & puzzle\n",
    "student_0 = Tree.predict([[8, 6, 5]])\n",
    "print(student_0)\n",
    "student_1 = Tree.predict([[3, 7, 9]])\n",
    "print(student_1)"
   ]
  },
  {
   "cell_type": "markdown",
   "id": "80ae708e",
   "metadata": {},
   "source": [
    "# 7. Get Row with Min Var."
   ]
  },
  {
   "cell_type": "code",
   "execution_count": 8,
   "id": "7f59456f",
   "metadata": {},
   "outputs": [
    {
     "name": "stdout",
     "output_type": "stream",
     "text": [
      "Row with minimum variance: 3\n",
      "Variance: 0.25\n"
     ]
    }
   ],
   "source": [
    "## Data (rows: stocks / cols: stock prices)\n",
    "X = np.array([[25,27,29,30],\n",
    " [1,5,3,2],\n",
    " [12,11,8,3],\n",
    " [1,1,2,2],\n",
    " [2,6,2,2]])\n",
    "\n",
    "## One-liner\n",
    "# Find the stock with smallest variance\n",
    "min_row = min([(i,np.var(X[i,:])) for i in range(len(X))], key=lambda x: x[1])\n",
    "\n",
    "## Result & puzzle\n",
    "print(\"Row with minimum variance: \" + str(min_row[0]))\n",
    "print(\"Variance: \" + str(min_row[1]))"
   ]
  },
  {
   "cell_type": "markdown",
   "id": "0295c88e",
   "metadata": {},
   "source": [
    "# 8. Basic Stats"
   ]
  },
  {
   "cell_type": "code",
   "execution_count": 9,
   "id": "1b38e7c0",
   "metadata": {},
   "outputs": [
    {
     "name": "stdout",
     "output_type": "stream",
     "text": [
      "2.0\n",
      "2.4444444444444446\n",
      "1.5634719199411433\n"
     ]
    }
   ],
   "source": [
    "X = np.array([[1, 3, 5],\n",
    " [1, 1, 1],\n",
    " [0, 2, 4]])\n",
    "\n",
    "print(np.average(X))\n",
    "# 2.0\n",
    "\n",
    "print(np.var(X))\n",
    "# 2.4444444444444446\n",
    "\n",
    "print(np.std(X))\n",
    "# 1.5634719199411433"
   ]
  },
  {
   "cell_type": "code",
   "execution_count": 10,
   "id": "76890a1a",
   "metadata": {},
   "outputs": [
    {
     "name": "stdout",
     "output_type": "stream",
     "text": [
      "Averages: [10.   1.5  7.   6.   3. ]\n",
      "Variances: [2.5  0.25 8.5  4.5  0.  ]\n",
      "Standard Deviations: [1.58113883 0.5        2.91547595 2.12132034 0.        ]\n"
     ]
    }
   ],
   "source": [
    "## Stock Price Data: 5 companies\n",
    "# (row=[price_day_1, price_day_2, ...])\n",
    "x = np.array([[8, 9, 11, 12],\n",
    " [1, 2, 2, 1],\n",
    " [2, 8, 9, 9],\n",
    " [9, 6, 6, 3],\n",
    " [3, 3, 3, 3]])\n",
    "\n",
    "## One-liner\n",
    "avg, var, std = np.average(x, axis=1), np.var(x, axis=1), np.std(x, axis=1)\n",
    "\n",
    "## Result & puzzle\n",
    "print(\"Averages: \" + str(avg))\n",
    "print(\"Variances: \" + str(var))\n",
    "print(\"Standard Deviations: \" + str(std))\n"
   ]
  },
  {
   "cell_type": "markdown",
   "id": "3561b2ba",
   "metadata": {},
   "source": [
    "# 9. SVM"
   ]
  },
  {
   "cell_type": "code",
   "execution_count": 11,
   "id": "aa98593f",
   "metadata": {},
   "outputs": [
    {
     "name": "stdout",
     "output_type": "stream",
     "text": [
      "['art']\n",
      "['computer science']\n"
     ]
    }
   ],
   "source": [
    "from sklearn import svm\n",
    "import numpy as np\n",
    "\n",
    "## Data: student scores in (math, language, creativity) --> study field\n",
    "X = np.array([[9, 5, 6, \"computer science\"],\n",
    " [10, 1, 2, \"computer science\"],\n",
    " [1, 8, 1, \"literature\"],\n",
    " [4, 9, 3, \"literature\"],\n",
    " [0, 1, 10, \"art\"],\n",
    " [5, 7, 9, \"art\"]])\n",
    "\n",
    "## One-liner\n",
    "svm = svm.SVC().fit(X[:,:-1], X[:,-1])\n",
    "\n",
    "## Result & puzzle\n",
    "student_0 = svm.predict([[3, 3, 6]])\n",
    "print(student_0)\n",
    "student_1 = svm.predict([[8, 1, 1]])\n",
    "print(student_1)"
   ]
  },
  {
   "cell_type": "markdown",
   "id": "d79b58d9",
   "metadata": {},
   "source": [
    "# 10. Random Forest"
   ]
  },
  {
   "cell_type": "code",
   "execution_count": 12,
   "id": "83fbfcbf",
   "metadata": {},
   "outputs": [
    {
     "name": "stdout",
     "output_type": "stream",
     "text": [
      "['computer science' 'art' 'art']\n"
     ]
    }
   ],
   "source": [
    "import numpy as np\n",
    "from sklearn.ensemble import RandomForestClassifier\n",
    "\n",
    "## Data: student scores in (math, language, creativity) --> study field\n",
    "X = np.array([[9, 5, 6, \"computer science\"],\n",
    " [5, 1, 5, \"computer science\"],\n",
    " [8, 8, 8, \"computer science\"],\n",
    " [1, 10, 7, \"literature\"],\n",
    " [1, 8, 1, \"literature\"],\n",
    " [5, 7, 9, \"art\"],\n",
    " [1, 1, 6, \"art\"]])\n",
    "\n",
    "## One-liner\n",
    "Forest = RandomForestClassifier(n_estimators=10).fit(X[:,:-1], X[:,-1])\n",
    "\n",
    "## Result\n",
    "students = Forest.predict([[8, 6, 5],\n",
    " [3, 7, 9],\n",
    " [2, 2, 1]])\n",
    "print(students)"
   ]
  },
  {
   "cell_type": "code",
   "execution_count": null,
   "id": "7805b951",
   "metadata": {},
   "outputs": [],
   "source": []
  }
 ],
 "metadata": {
  "kernelspec": {
   "display_name": "Python 3 (ipykernel)",
   "language": "python",
   "name": "python3"
  },
  "language_info": {
   "codemirror_mode": {
    "name": "ipython",
    "version": 3
   },
   "file_extension": ".py",
   "mimetype": "text/x-python",
   "name": "python",
   "nbconvert_exporter": "python",
   "pygments_lexer": "ipython3",
   "version": "3.9.12"
  }
 },
 "nbformat": 4,
 "nbformat_minor": 5
}
